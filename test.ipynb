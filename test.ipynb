{
 "cells": [
  {
   "cell_type": "code",
   "execution_count": 16,
   "metadata": {},
   "outputs": [
    {
     "name": "stdout",
     "output_type": "stream",
     "text": [
      "COM4 - Arduino Uno (COM4)\n"
     ]
    }
   ],
   "source": [
    "from serial.tools.list_ports import comports\n",
    "a = comports()\n",
    "for i in a:\n",
    "    print(i)"
   ]
  },
  {
   "cell_type": "code",
   "execution_count": 17,
   "metadata": {},
   "outputs": [
    {
     "name": "stdout",
     "output_type": "stream",
     "text": [
      "b'Arduino thermometer\\r\\n'\n",
      "b''\n",
      "b'296.89\\r\\n'\n",
      "b''\n",
      "b'23.77\\r\\n'\n"
     ]
    }
   ],
   "source": [
    "import serial\n",
    "from time import sleep\n",
    "arduino = serial.Serial('COM4', 115200)\n",
    "sleep(2)\n",
    "for command in [b'*IDN?\\n',b'KDEG?\\n',b'CDEG?\\n',b'FDEG?\\n',b'RES?\\n']:\n",
    "    arduino.write(command)\n",
    "    sleep(0.1)\n",
    "    print(arduino.read_all())\n",
    "arduino.close()"
   ]
  }
 ],
 "metadata": {
  "kernelspec": {
   "display_name": "Python 3",
   "language": "python",
   "name": "python3"
  },
  "language_info": {
   "codemirror_mode": {
    "name": "ipython",
    "version": 3
   },
   "file_extension": ".py",
   "mimetype": "text/x-python",
   "name": "python",
   "nbconvert_exporter": "python",
   "pygments_lexer": "ipython3",
   "version": "3.12.1"
  }
 },
 "nbformat": 4,
 "nbformat_minor": 2
}
